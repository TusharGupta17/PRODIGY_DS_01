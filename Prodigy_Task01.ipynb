{
  "nbformat": 4,
  "nbformat_minor": 0,
  "metadata": {
    "colab": {
      "provenance": []
    },
    "kernelspec": {
      "name": "python3",
      "display_name": "Python 3"
    },
    "language_info": {
      "name": "python"
    }
  },
  "cells": [
    {
      "cell_type": "code",
      "execution_count": 3,
      "metadata": {
        "id": "aofLzEJcKr2G"
      },
      "outputs": [],
      "source": [
        "import numpy as np\n",
        "import pandas as pd\n",
        "import matplotlib.pyplot as plt\n",
        "import plotly.express as px\n",
        "import seaborn as sns"
      ]
    },
    {
      "cell_type": "code",
      "source": [
        "df = pd.read_csv(\"/content/worldpopulationdata.csv\")\n"
      ],
      "metadata": {
        "id": "nML4WYAZLLsP"
      },
      "execution_count": 4,
      "outputs": []
    },
    {
      "cell_type": "code",
      "source": [
        "df.head()"
      ],
      "metadata": {
        "id": "_bpG5ctbFiHF",
        "colab": {
          "base_uri": "https://localhost:8080/",
          "height": 359
        },
        "outputId": "7c17cdd7-5e19-45e0-bb43-878f975a9338"
      },
      "execution_count": 5,
      "outputs": [
        {
          "output_type": "execute_result",
          "data": {
            "text/plain": [
              "         Series Name  Series Code    Country Name Country Code        2022  \\\n",
              "0  Population, total  SP.POP.TOTL     Afghanistan          AFG  41128771.0   \n",
              "1  Population, total  SP.POP.TOTL         Albania          ALB   2775634.0   \n",
              "2  Population, total  SP.POP.TOTL         Algeria          DZA  44903225.0   \n",
              "3  Population, total  SP.POP.TOTL  American Samoa          ASM     44273.0   \n",
              "4  Population, total  SP.POP.TOTL         Andorra          AND     79824.0   \n",
              "\n",
              "         2021        2020        2019        2018        2017  ...  \\\n",
              "0  40099462.0  38972230.0  37769499.0  36686784.0  35643418.0  ...   \n",
              "1   2811666.0   2837849.0   2854191.0   2866376.0   2873457.0  ...   \n",
              "2  44177969.0  43451666.0  42705368.0  41927007.0  41136546.0  ...   \n",
              "3     45035.0     46189.0     47321.0     48424.0     49463.0  ...   \n",
              "4     79034.0     77700.0     76343.0     75013.0     73837.0  ...   \n",
              "\n",
              "         2010        2009        2008        2007        2006        2005  \\\n",
              "0  28189672.0  27385307.0  26427199.0  25903301.0  25442944.0  24411191.0   \n",
              "1   2913021.0   2927519.0   2947314.0   2970017.0   2992547.0   3011487.0   \n",
              "2  35856344.0  35196037.0  34569592.0  33983827.0  33435080.0  32956690.0   \n",
              "3     54849.0     55366.0     55891.0     56383.0     56837.0     57254.0   \n",
              "4     71519.0     73852.0     76055.0     78168.0     80221.0     79826.0   \n",
              "\n",
              "         2004        2003        2002        2001  \n",
              "0  23553551.0  22645130.0  21000256.0  19688632.0  \n",
              "1   3026939.0   3039616.0   3051010.0   3060173.0  \n",
              "2  32510186.0  32055883.0  31624696.0  31200985.0  \n",
              "3     57626.0     57941.0     58177.0     58324.0  \n",
              "4     76933.0     73907.0     70849.0     67820.0  \n",
              "\n",
              "[5 rows x 26 columns]"
            ],
            "text/html": [
              "\n",
              "  <div id=\"df-9d46a52e-3621-453b-9c5f-38ff8a8d6f23\" class=\"colab-df-container\">\n",
              "    <div>\n",
              "<style scoped>\n",
              "    .dataframe tbody tr th:only-of-type {\n",
              "        vertical-align: middle;\n",
              "    }\n",
              "\n",
              "    .dataframe tbody tr th {\n",
              "        vertical-align: top;\n",
              "    }\n",
              "\n",
              "    .dataframe thead th {\n",
              "        text-align: right;\n",
              "    }\n",
              "</style>\n",
              "<table border=\"1\" class=\"dataframe\">\n",
              "  <thead>\n",
              "    <tr style=\"text-align: right;\">\n",
              "      <th></th>\n",
              "      <th>Series Name</th>\n",
              "      <th>Series Code</th>\n",
              "      <th>Country Name</th>\n",
              "      <th>Country Code</th>\n",
              "      <th>2022</th>\n",
              "      <th>2021</th>\n",
              "      <th>2020</th>\n",
              "      <th>2019</th>\n",
              "      <th>2018</th>\n",
              "      <th>2017</th>\n",
              "      <th>...</th>\n",
              "      <th>2010</th>\n",
              "      <th>2009</th>\n",
              "      <th>2008</th>\n",
              "      <th>2007</th>\n",
              "      <th>2006</th>\n",
              "      <th>2005</th>\n",
              "      <th>2004</th>\n",
              "      <th>2003</th>\n",
              "      <th>2002</th>\n",
              "      <th>2001</th>\n",
              "    </tr>\n",
              "  </thead>\n",
              "  <tbody>\n",
              "    <tr>\n",
              "      <th>0</th>\n",
              "      <td>Population, total</td>\n",
              "      <td>SP.POP.TOTL</td>\n",
              "      <td>Afghanistan</td>\n",
              "      <td>AFG</td>\n",
              "      <td>41128771.0</td>\n",
              "      <td>40099462.0</td>\n",
              "      <td>38972230.0</td>\n",
              "      <td>37769499.0</td>\n",
              "      <td>36686784.0</td>\n",
              "      <td>35643418.0</td>\n",
              "      <td>...</td>\n",
              "      <td>28189672.0</td>\n",
              "      <td>27385307.0</td>\n",
              "      <td>26427199.0</td>\n",
              "      <td>25903301.0</td>\n",
              "      <td>25442944.0</td>\n",
              "      <td>24411191.0</td>\n",
              "      <td>23553551.0</td>\n",
              "      <td>22645130.0</td>\n",
              "      <td>21000256.0</td>\n",
              "      <td>19688632.0</td>\n",
              "    </tr>\n",
              "    <tr>\n",
              "      <th>1</th>\n",
              "      <td>Population, total</td>\n",
              "      <td>SP.POP.TOTL</td>\n",
              "      <td>Albania</td>\n",
              "      <td>ALB</td>\n",
              "      <td>2775634.0</td>\n",
              "      <td>2811666.0</td>\n",
              "      <td>2837849.0</td>\n",
              "      <td>2854191.0</td>\n",
              "      <td>2866376.0</td>\n",
              "      <td>2873457.0</td>\n",
              "      <td>...</td>\n",
              "      <td>2913021.0</td>\n",
              "      <td>2927519.0</td>\n",
              "      <td>2947314.0</td>\n",
              "      <td>2970017.0</td>\n",
              "      <td>2992547.0</td>\n",
              "      <td>3011487.0</td>\n",
              "      <td>3026939.0</td>\n",
              "      <td>3039616.0</td>\n",
              "      <td>3051010.0</td>\n",
              "      <td>3060173.0</td>\n",
              "    </tr>\n",
              "    <tr>\n",
              "      <th>2</th>\n",
              "      <td>Population, total</td>\n",
              "      <td>SP.POP.TOTL</td>\n",
              "      <td>Algeria</td>\n",
              "      <td>DZA</td>\n",
              "      <td>44903225.0</td>\n",
              "      <td>44177969.0</td>\n",
              "      <td>43451666.0</td>\n",
              "      <td>42705368.0</td>\n",
              "      <td>41927007.0</td>\n",
              "      <td>41136546.0</td>\n",
              "      <td>...</td>\n",
              "      <td>35856344.0</td>\n",
              "      <td>35196037.0</td>\n",
              "      <td>34569592.0</td>\n",
              "      <td>33983827.0</td>\n",
              "      <td>33435080.0</td>\n",
              "      <td>32956690.0</td>\n",
              "      <td>32510186.0</td>\n",
              "      <td>32055883.0</td>\n",
              "      <td>31624696.0</td>\n",
              "      <td>31200985.0</td>\n",
              "    </tr>\n",
              "    <tr>\n",
              "      <th>3</th>\n",
              "      <td>Population, total</td>\n",
              "      <td>SP.POP.TOTL</td>\n",
              "      <td>American Samoa</td>\n",
              "      <td>ASM</td>\n",
              "      <td>44273.0</td>\n",
              "      <td>45035.0</td>\n",
              "      <td>46189.0</td>\n",
              "      <td>47321.0</td>\n",
              "      <td>48424.0</td>\n",
              "      <td>49463.0</td>\n",
              "      <td>...</td>\n",
              "      <td>54849.0</td>\n",
              "      <td>55366.0</td>\n",
              "      <td>55891.0</td>\n",
              "      <td>56383.0</td>\n",
              "      <td>56837.0</td>\n",
              "      <td>57254.0</td>\n",
              "      <td>57626.0</td>\n",
              "      <td>57941.0</td>\n",
              "      <td>58177.0</td>\n",
              "      <td>58324.0</td>\n",
              "    </tr>\n",
              "    <tr>\n",
              "      <th>4</th>\n",
              "      <td>Population, total</td>\n",
              "      <td>SP.POP.TOTL</td>\n",
              "      <td>Andorra</td>\n",
              "      <td>AND</td>\n",
              "      <td>79824.0</td>\n",
              "      <td>79034.0</td>\n",
              "      <td>77700.0</td>\n",
              "      <td>76343.0</td>\n",
              "      <td>75013.0</td>\n",
              "      <td>73837.0</td>\n",
              "      <td>...</td>\n",
              "      <td>71519.0</td>\n",
              "      <td>73852.0</td>\n",
              "      <td>76055.0</td>\n",
              "      <td>78168.0</td>\n",
              "      <td>80221.0</td>\n",
              "      <td>79826.0</td>\n",
              "      <td>76933.0</td>\n",
              "      <td>73907.0</td>\n",
              "      <td>70849.0</td>\n",
              "      <td>67820.0</td>\n",
              "    </tr>\n",
              "  </tbody>\n",
              "</table>\n",
              "<p>5 rows × 26 columns</p>\n",
              "</div>\n",
              "    <div class=\"colab-df-buttons\">\n",
              "\n",
              "  <div class=\"colab-df-container\">\n",
              "    <button class=\"colab-df-convert\" onclick=\"convertToInteractive('df-9d46a52e-3621-453b-9c5f-38ff8a8d6f23')\"\n",
              "            title=\"Convert this dataframe to an interactive table.\"\n",
              "            style=\"display:none;\">\n",
              "\n",
              "  <svg xmlns=\"http://www.w3.org/2000/svg\" height=\"24px\" viewBox=\"0 -960 960 960\">\n",
              "    <path d=\"M120-120v-720h720v720H120Zm60-500h600v-160H180v160Zm220 220h160v-160H400v160Zm0 220h160v-160H400v160ZM180-400h160v-160H180v160Zm440 0h160v-160H620v160ZM180-180h160v-160H180v160Zm440 0h160v-160H620v160Z\"/>\n",
              "  </svg>\n",
              "    </button>\n",
              "\n",
              "  <style>\n",
              "    .colab-df-container {\n",
              "      display:flex;\n",
              "      gap: 12px;\n",
              "    }\n",
              "\n",
              "    .colab-df-convert {\n",
              "      background-color: #E8F0FE;\n",
              "      border: none;\n",
              "      border-radius: 50%;\n",
              "      cursor: pointer;\n",
              "      display: none;\n",
              "      fill: #1967D2;\n",
              "      height: 32px;\n",
              "      padding: 0 0 0 0;\n",
              "      width: 32px;\n",
              "    }\n",
              "\n",
              "    .colab-df-convert:hover {\n",
              "      background-color: #E2EBFA;\n",
              "      box-shadow: 0px 1px 2px rgba(60, 64, 67, 0.3), 0px 1px 3px 1px rgba(60, 64, 67, 0.15);\n",
              "      fill: #174EA6;\n",
              "    }\n",
              "\n",
              "    .colab-df-buttons div {\n",
              "      margin-bottom: 4px;\n",
              "    }\n",
              "\n",
              "    [theme=dark] .colab-df-convert {\n",
              "      background-color: #3B4455;\n",
              "      fill: #D2E3FC;\n",
              "    }\n",
              "\n",
              "    [theme=dark] .colab-df-convert:hover {\n",
              "      background-color: #434B5C;\n",
              "      box-shadow: 0px 1px 3px 1px rgba(0, 0, 0, 0.15);\n",
              "      filter: drop-shadow(0px 1px 2px rgba(0, 0, 0, 0.3));\n",
              "      fill: #FFFFFF;\n",
              "    }\n",
              "  </style>\n",
              "\n",
              "    <script>\n",
              "      const buttonEl =\n",
              "        document.querySelector('#df-9d46a52e-3621-453b-9c5f-38ff8a8d6f23 button.colab-df-convert');\n",
              "      buttonEl.style.display =\n",
              "        google.colab.kernel.accessAllowed ? 'block' : 'none';\n",
              "\n",
              "      async function convertToInteractive(key) {\n",
              "        const element = document.querySelector('#df-9d46a52e-3621-453b-9c5f-38ff8a8d6f23');\n",
              "        const dataTable =\n",
              "          await google.colab.kernel.invokeFunction('convertToInteractive',\n",
              "                                                    [key], {});\n",
              "        if (!dataTable) return;\n",
              "\n",
              "        const docLinkHtml = 'Like what you see? Visit the ' +\n",
              "          '<a target=\"_blank\" href=https://colab.research.google.com/notebooks/data_table.ipynb>data table notebook</a>'\n",
              "          + ' to learn more about interactive tables.';\n",
              "        element.innerHTML = '';\n",
              "        dataTable['output_type'] = 'display_data';\n",
              "        await google.colab.output.renderOutput(dataTable, element);\n",
              "        const docLink = document.createElement('div');\n",
              "        docLink.innerHTML = docLinkHtml;\n",
              "        element.appendChild(docLink);\n",
              "      }\n",
              "    </script>\n",
              "  </div>\n",
              "\n",
              "\n",
              "<div id=\"df-7ed3d0b2-75e5-41f2-98bd-5229468f28cf\">\n",
              "  <button class=\"colab-df-quickchart\" onclick=\"quickchart('df-7ed3d0b2-75e5-41f2-98bd-5229468f28cf')\"\n",
              "            title=\"Suggest charts\"\n",
              "            style=\"display:none;\">\n",
              "\n",
              "<svg xmlns=\"http://www.w3.org/2000/svg\" height=\"24px\"viewBox=\"0 0 24 24\"\n",
              "     width=\"24px\">\n",
              "    <g>\n",
              "        <path d=\"M19 3H5c-1.1 0-2 .9-2 2v14c0 1.1.9 2 2 2h14c1.1 0 2-.9 2-2V5c0-1.1-.9-2-2-2zM9 17H7v-7h2v7zm4 0h-2V7h2v10zm4 0h-2v-4h2v4z\"/>\n",
              "    </g>\n",
              "</svg>\n",
              "  </button>\n",
              "\n",
              "<style>\n",
              "  .colab-df-quickchart {\n",
              "      --bg-color: #E8F0FE;\n",
              "      --fill-color: #1967D2;\n",
              "      --hover-bg-color: #E2EBFA;\n",
              "      --hover-fill-color: #174EA6;\n",
              "      --disabled-fill-color: #AAA;\n",
              "      --disabled-bg-color: #DDD;\n",
              "  }\n",
              "\n",
              "  [theme=dark] .colab-df-quickchart {\n",
              "      --bg-color: #3B4455;\n",
              "      --fill-color: #D2E3FC;\n",
              "      --hover-bg-color: #434B5C;\n",
              "      --hover-fill-color: #FFFFFF;\n",
              "      --disabled-bg-color: #3B4455;\n",
              "      --disabled-fill-color: #666;\n",
              "  }\n",
              "\n",
              "  .colab-df-quickchart {\n",
              "    background-color: var(--bg-color);\n",
              "    border: none;\n",
              "    border-radius: 50%;\n",
              "    cursor: pointer;\n",
              "    display: none;\n",
              "    fill: var(--fill-color);\n",
              "    height: 32px;\n",
              "    padding: 0;\n",
              "    width: 32px;\n",
              "  }\n",
              "\n",
              "  .colab-df-quickchart:hover {\n",
              "    background-color: var(--hover-bg-color);\n",
              "    box-shadow: 0 1px 2px rgba(60, 64, 67, 0.3), 0 1px 3px 1px rgba(60, 64, 67, 0.15);\n",
              "    fill: var(--button-hover-fill-color);\n",
              "  }\n",
              "\n",
              "  .colab-df-quickchart-complete:disabled,\n",
              "  .colab-df-quickchart-complete:disabled:hover {\n",
              "    background-color: var(--disabled-bg-color);\n",
              "    fill: var(--disabled-fill-color);\n",
              "    box-shadow: none;\n",
              "  }\n",
              "\n",
              "  .colab-df-spinner {\n",
              "    border: 2px solid var(--fill-color);\n",
              "    border-color: transparent;\n",
              "    border-bottom-color: var(--fill-color);\n",
              "    animation:\n",
              "      spin 1s steps(1) infinite;\n",
              "  }\n",
              "\n",
              "  @keyframes spin {\n",
              "    0% {\n",
              "      border-color: transparent;\n",
              "      border-bottom-color: var(--fill-color);\n",
              "      border-left-color: var(--fill-color);\n",
              "    }\n",
              "    20% {\n",
              "      border-color: transparent;\n",
              "      border-left-color: var(--fill-color);\n",
              "      border-top-color: var(--fill-color);\n",
              "    }\n",
              "    30% {\n",
              "      border-color: transparent;\n",
              "      border-left-color: var(--fill-color);\n",
              "      border-top-color: var(--fill-color);\n",
              "      border-right-color: var(--fill-color);\n",
              "    }\n",
              "    40% {\n",
              "      border-color: transparent;\n",
              "      border-right-color: var(--fill-color);\n",
              "      border-top-color: var(--fill-color);\n",
              "    }\n",
              "    60% {\n",
              "      border-color: transparent;\n",
              "      border-right-color: var(--fill-color);\n",
              "    }\n",
              "    80% {\n",
              "      border-color: transparent;\n",
              "      border-right-color: var(--fill-color);\n",
              "      border-bottom-color: var(--fill-color);\n",
              "    }\n",
              "    90% {\n",
              "      border-color: transparent;\n",
              "      border-bottom-color: var(--fill-color);\n",
              "    }\n",
              "  }\n",
              "</style>\n",
              "\n",
              "  <script>\n",
              "    async function quickchart(key) {\n",
              "      const quickchartButtonEl =\n",
              "        document.querySelector('#' + key + ' button');\n",
              "      quickchartButtonEl.disabled = true;  // To prevent multiple clicks.\n",
              "      quickchartButtonEl.classList.add('colab-df-spinner');\n",
              "      try {\n",
              "        const charts = await google.colab.kernel.invokeFunction(\n",
              "            'suggestCharts', [key], {});\n",
              "      } catch (error) {\n",
              "        console.error('Error during call to suggestCharts:', error);\n",
              "      }\n",
              "      quickchartButtonEl.classList.remove('colab-df-spinner');\n",
              "      quickchartButtonEl.classList.add('colab-df-quickchart-complete');\n",
              "    }\n",
              "    (() => {\n",
              "      let quickchartButtonEl =\n",
              "        document.querySelector('#df-7ed3d0b2-75e5-41f2-98bd-5229468f28cf button');\n",
              "      quickchartButtonEl.style.display =\n",
              "        google.colab.kernel.accessAllowed ? 'block' : 'none';\n",
              "    })();\n",
              "  </script>\n",
              "</div>\n",
              "\n",
              "    </div>\n",
              "  </div>\n"
            ],
            "application/vnd.google.colaboratory.intrinsic+json": {
              "type": "dataframe",
              "variable_name": "df"
            }
          },
          "metadata": {},
          "execution_count": 5
        }
      ]
    },
    {
      "cell_type": "code",
      "source": [
        "df.shape"
      ],
      "metadata": {
        "id": "dLyDH1ToFx6H",
        "colab": {
          "base_uri": "https://localhost:8080/"
        },
        "outputId": "b0138912-8e9b-49b4-a479-8f6ed1011f27"
      },
      "execution_count": 6,
      "outputs": [
        {
          "output_type": "execute_result",
          "data": {
            "text/plain": [
              "(1085, 26)"
            ]
          },
          "metadata": {},
          "execution_count": 6
        }
      ]
    },
    {
      "cell_type": "code",
      "source": [
        "df.duplicated().sum()"
      ],
      "metadata": {
        "id": "RUVQ58RuF1AM",
        "colab": {
          "base_uri": "https://localhost:8080/"
        },
        "outputId": "f5c89bfa-752e-41a1-92c6-f521bb86aef8"
      },
      "execution_count": 7,
      "outputs": [
        {
          "output_type": "execute_result",
          "data": {
            "text/plain": [
              "0"
            ]
          },
          "metadata": {},
          "execution_count": 7
        }
      ]
    },
    {
      "cell_type": "code",
      "source": [
        "df.isna().sum()"
      ],
      "metadata": {
        "id": "3pnB9Gq_GB6D",
        "colab": {
          "base_uri": "https://localhost:8080/",
          "height": 899
        },
        "outputId": "484ec5dc-336f-41ce-9c38-271e9950c6b3"
      },
      "execution_count": 8,
      "outputs": [
        {
          "output_type": "execute_result",
          "data": {
            "text/plain": [
              "Series Name     0\n",
              "Series Code     0\n",
              "Country Name    0\n",
              "Country Code    0\n",
              "2022            0\n",
              "2021            0\n",
              "2020            0\n",
              "2019            0\n",
              "2018            0\n",
              "2017            0\n",
              "2016            0\n",
              "2015            0\n",
              "2014            0\n",
              "2013            0\n",
              "2012            0\n",
              "2011            0\n",
              "2010            0\n",
              "2009            0\n",
              "2008            0\n",
              "2007            0\n",
              "2006            0\n",
              "2005            0\n",
              "2004            0\n",
              "2003            0\n",
              "2002            0\n",
              "2001            0\n",
              "dtype: int64"
            ],
            "text/html": [
              "<div>\n",
              "<style scoped>\n",
              "    .dataframe tbody tr th:only-of-type {\n",
              "        vertical-align: middle;\n",
              "    }\n",
              "\n",
              "    .dataframe tbody tr th {\n",
              "        vertical-align: top;\n",
              "    }\n",
              "\n",
              "    .dataframe thead th {\n",
              "        text-align: right;\n",
              "    }\n",
              "</style>\n",
              "<table border=\"1\" class=\"dataframe\">\n",
              "  <thead>\n",
              "    <tr style=\"text-align: right;\">\n",
              "      <th></th>\n",
              "      <th>0</th>\n",
              "    </tr>\n",
              "  </thead>\n",
              "  <tbody>\n",
              "    <tr>\n",
              "      <th>Series Name</th>\n",
              "      <td>0</td>\n",
              "    </tr>\n",
              "    <tr>\n",
              "      <th>Series Code</th>\n",
              "      <td>0</td>\n",
              "    </tr>\n",
              "    <tr>\n",
              "      <th>Country Name</th>\n",
              "      <td>0</td>\n",
              "    </tr>\n",
              "    <tr>\n",
              "      <th>Country Code</th>\n",
              "      <td>0</td>\n",
              "    </tr>\n",
              "    <tr>\n",
              "      <th>2022</th>\n",
              "      <td>0</td>\n",
              "    </tr>\n",
              "    <tr>\n",
              "      <th>2021</th>\n",
              "      <td>0</td>\n",
              "    </tr>\n",
              "    <tr>\n",
              "      <th>2020</th>\n",
              "      <td>0</td>\n",
              "    </tr>\n",
              "    <tr>\n",
              "      <th>2019</th>\n",
              "      <td>0</td>\n",
              "    </tr>\n",
              "    <tr>\n",
              "      <th>2018</th>\n",
              "      <td>0</td>\n",
              "    </tr>\n",
              "    <tr>\n",
              "      <th>2017</th>\n",
              "      <td>0</td>\n",
              "    </tr>\n",
              "    <tr>\n",
              "      <th>2016</th>\n",
              "      <td>0</td>\n",
              "    </tr>\n",
              "    <tr>\n",
              "      <th>2015</th>\n",
              "      <td>0</td>\n",
              "    </tr>\n",
              "    <tr>\n",
              "      <th>2014</th>\n",
              "      <td>0</td>\n",
              "    </tr>\n",
              "    <tr>\n",
              "      <th>2013</th>\n",
              "      <td>0</td>\n",
              "    </tr>\n",
              "    <tr>\n",
              "      <th>2012</th>\n",
              "      <td>0</td>\n",
              "    </tr>\n",
              "    <tr>\n",
              "      <th>2011</th>\n",
              "      <td>0</td>\n",
              "    </tr>\n",
              "    <tr>\n",
              "      <th>2010</th>\n",
              "      <td>0</td>\n",
              "    </tr>\n",
              "    <tr>\n",
              "      <th>2009</th>\n",
              "      <td>0</td>\n",
              "    </tr>\n",
              "    <tr>\n",
              "      <th>2008</th>\n",
              "      <td>0</td>\n",
              "    </tr>\n",
              "    <tr>\n",
              "      <th>2007</th>\n",
              "      <td>0</td>\n",
              "    </tr>\n",
              "    <tr>\n",
              "      <th>2006</th>\n",
              "      <td>0</td>\n",
              "    </tr>\n",
              "    <tr>\n",
              "      <th>2005</th>\n",
              "      <td>0</td>\n",
              "    </tr>\n",
              "    <tr>\n",
              "      <th>2004</th>\n",
              "      <td>0</td>\n",
              "    </tr>\n",
              "    <tr>\n",
              "      <th>2003</th>\n",
              "      <td>0</td>\n",
              "    </tr>\n",
              "    <tr>\n",
              "      <th>2002</th>\n",
              "      <td>0</td>\n",
              "    </tr>\n",
              "    <tr>\n",
              "      <th>2001</th>\n",
              "      <td>0</td>\n",
              "    </tr>\n",
              "  </tbody>\n",
              "</table>\n",
              "</div><br><label><b>dtype:</b> int64</label>"
            ]
          },
          "metadata": {},
          "execution_count": 8
        }
      ]
    },
    {
      "cell_type": "code",
      "source": [
        "df['Country Name'].unique()"
      ],
      "metadata": {
        "id": "v0OEdfK1GFzX",
        "colab": {
          "base_uri": "https://localhost:8080/"
        },
        "outputId": "de6ed472-1118-4b8e-ce27-be623e4ea11d"
      },
      "execution_count": 9,
      "outputs": [
        {
          "output_type": "execute_result",
          "data": {
            "text/plain": [
              "array(['Afghanistan', 'Albania', 'Algeria', 'American Samoa', 'Andorra',\n",
              "       'Angola', 'Antigua and Barbuda', 'Argentina', 'Armenia', 'Aruba',\n",
              "       'Australia', 'Austria', 'Azerbaijan', 'Bahamas, The', 'Bahrain',\n",
              "       'Bangladesh', 'Barbados', 'Belarus', 'Belgium', 'Belize', 'Benin',\n",
              "       'Bermuda', 'Bhutan', 'Bolivia', 'Bosnia and Herzegovina',\n",
              "       'Botswana', 'Brazil', 'British Virgin Islands',\n",
              "       'Brunei Darussalam', 'Bulgaria', 'Burkina Faso', 'Burundi',\n",
              "       'Cabo Verde', 'Cambodia', 'Cameroon', 'Canada', 'Cayman Islands',\n",
              "       'Central African Republic', 'Chad', 'Channel Islands', 'Chile',\n",
              "       'China', 'Colombia', 'Comoros', 'Congo, Dem. Rep.', 'Congo, Rep.',\n",
              "       'Costa Rica', \"Cote d'Ivoire\", 'Croatia', 'Cuba', 'Curacao',\n",
              "       'Cyprus', 'Czechia', 'Denmark', 'Djibouti', 'Dominica',\n",
              "       'Dominican Republic', 'Ecuador', 'Egypt, Arab Rep.', 'El Salvador',\n",
              "       'Equatorial Guinea', 'Eritrea', 'Estonia', 'Eswatini', 'Ethiopia',\n",
              "       'Faroe Islands', 'Fiji', 'Finland', 'France', 'French Polynesia',\n",
              "       'Gabon', 'Gambia, The', 'Georgia', 'Germany', 'Ghana', 'Gibraltar',\n",
              "       'Greece', 'Greenland', 'Grenada', 'Guam', 'Guatemala', 'Guinea',\n",
              "       'Guinea-Bissau', 'Guyana', 'Haiti', 'Honduras',\n",
              "       'Hong Kong SAR, China', 'Hungary', 'Iceland', 'India', 'Indonesia',\n",
              "       'Iran, Islamic Rep.', 'Iraq', 'Ireland', 'Isle of Man', 'Israel',\n",
              "       'Italy', 'Jamaica', 'Japan', 'Jordan', 'Kazakhstan', 'Kenya',\n",
              "       'Kiribati', \"Korea, Dem. People's Rep.\", 'Korea, Rep.', 'Kosovo',\n",
              "       'Kuwait', 'Kyrgyz Republic', 'Lao PDR', 'Latvia', 'Lebanon',\n",
              "       'Lesotho', 'Liberia', 'Libya', 'Liechtenstein', 'Lithuania',\n",
              "       'Luxembourg', 'Macao SAR, China', 'Madagascar', 'Malawi',\n",
              "       'Malaysia', 'Maldives', 'Mali', 'Malta', 'Marshall Islands',\n",
              "       'Mauritania', 'Mauritius', 'Mexico', 'Micronesia, Fed. Sts.',\n",
              "       'Moldova', 'Monaco', 'Mongolia', 'Montenegro', 'Morocco',\n",
              "       'Mozambique', 'Myanmar', 'Namibia', 'Nauru', 'Nepal',\n",
              "       'Netherlands', 'New Caledonia', 'New Zealand', 'Nicaragua',\n",
              "       'Niger', 'Nigeria', 'North Macedonia', 'Northern Mariana Islands',\n",
              "       'Norway', 'Oman', 'Pakistan', 'Palau', 'Panama',\n",
              "       'Papua New Guinea', 'Paraguay', 'Peru', 'Philippines', 'Poland',\n",
              "       'Portugal', 'Puerto Rico', 'Qatar', 'Romania',\n",
              "       'Russian Federation', 'Rwanda', 'Samoa', 'San Marino',\n",
              "       'Sao Tome and Principe', 'Saudi Arabia', 'Senegal', 'Serbia',\n",
              "       'Seychelles', 'Sierra Leone', 'Singapore',\n",
              "       'Sint Maarten (Dutch part)', 'Slovak Republic', 'Slovenia',\n",
              "       'Solomon Islands', 'Somalia', 'South Africa', 'South Sudan',\n",
              "       'Spain', 'Sri Lanka', 'St. Kitts and Nevis', 'St. Lucia',\n",
              "       'St. Martin (French part)', 'St. Vincent and the Grenadines',\n",
              "       'Sudan', 'Suriname', 'Sweden', 'Switzerland',\n",
              "       'Syrian Arab Republic', 'Tajikistan', 'Tanzania', 'Thailand',\n",
              "       'Timor-Leste', 'Togo', 'Tonga', 'Trinidad and Tobago', 'Tunisia',\n",
              "       'Turkiye', 'Turkmenistan', 'Turks and Caicos Islands', 'Tuvalu',\n",
              "       'Uganda', 'Ukraine', 'United Arab Emirates', 'United Kingdom',\n",
              "       'United States', 'Uruguay', 'Uzbekistan', 'Vanuatu',\n",
              "       'Venezuela, RB', 'Vietnam', 'Virgin Islands (U.S.)',\n",
              "       'West Bank and Gaza', 'Yemen, Rep.', 'Zambia', 'Zimbabwe'],\n",
              "      dtype=object)"
            ]
          },
          "metadata": {},
          "execution_count": 9
        }
      ]
    },
    {
      "cell_type": "code",
      "source": [
        "df['Country Name'].nunique()"
      ],
      "metadata": {
        "id": "Tg5GVh3sGZRv",
        "colab": {
          "base_uri": "https://localhost:8080/"
        },
        "outputId": "7eeaeaad-7e43-44a4-fdd7-ac9421d22d94"
      },
      "execution_count": 10,
      "outputs": [
        {
          "output_type": "execute_result",
          "data": {
            "text/plain": [
              "217"
            ]
          },
          "metadata": {},
          "execution_count": 10
        }
      ]
    },
    {
      "cell_type": "markdown",
      "source": [
        "**Dropping Unnecessary Columns**"
      ],
      "metadata": {
        "id": "BRBJrzcMHIAx"
      }
    },
    {
      "cell_type": "code",
      "source": [
        "df.drop(['Series Name','Country Code'],axis=1,inplace=True)"
      ],
      "metadata": {
        "id": "UmzzuIvpHQhf"
      },
      "execution_count": 11,
      "outputs": []
    },
    {
      "cell_type": "markdown",
      "source": [
        "**TOP 10 COUNTRIES OF TOTAL POPULATION**"
      ],
      "metadata": {
        "id": "qAPrdPUIIGj9"
      }
    },
    {
      "cell_type": "code",
      "source": [
        "total_population_data = df[df['Series Code'] == 'SP.POP.TOTL']\n",
        "\n",
        "\n",
        "total_population_sorted = total_population_data.sort_values(by=\"2022\", ascending=False)\n",
        "\n",
        "total_top_ten_countries = total_population_sorted.head(10)\n",
        "print(total_top_ten_countries[['Country Name']] )"
      ],
      "metadata": {
        "id": "4y1MNcHNHTG6",
        "colab": {
          "base_uri": "https://localhost:8080/"
        },
        "outputId": "deb3bf47-6d06-4698-fc28-2d3f4e5a601c"
      },
      "execution_count": 12,
      "outputs": [
        {
          "output_type": "stream",
          "name": "stdout",
          "text": [
            "           Country Name\n",
            "89                India\n",
            "41                China\n",
            "206       United States\n",
            "90            Indonesia\n",
            "149            Pakistan\n",
            "144             Nigeria\n",
            "26               Brazil\n",
            "15           Bangladesh\n",
            "161  Russian Federation\n",
            "127              Mexico\n"
          ]
        }
      ]
    },
    {
      "cell_type": "markdown",
      "source": [
        "**BAR PLOT OF TOP TEN COUNTRIES POPULATION BETWEEN 2016 AND 2022**"
      ],
      "metadata": {
        "id": "kI74WzWzvpXk"
      }
    },
    {
      "cell_type": "code",
      "source": [
        "plt.figure(figsize=(15, 6))\n",
        "plt.subplot(2,2,1)\n",
        "sns.barplot(x=\"2022\", y=\"Country Name\", data=total_top_ten_countries, palette=\"coolwarm\")\n",
        "plt.title(\"Top Ten Countries of Total Population (2022)\",fontsize=10)\n",
        "plt.xlabel(\"Total Population\",fontsize=10)\n",
        "plt.ylabel(\"Country\",fontsize=10)\n",
        "plt.show()\n",
        "\n",
        "plt.figure(figsize=(15, 6))\n",
        "plt.subplot(2,2,2)\n",
        "sns.barplot(x=\"2016\", y=\"Country Name\", data=total_top_ten_countries, palette=\"coolwarm\")\n",
        "plt.title(\"Top Ten Countries with Total Population (2016)\",fontsize=10)\n",
        "plt.xlabel(\"Total Population\",fontsize=10)\n",
        "plt.ylabel(\"Country\",fontsize=10)\n",
        "plt.show()"
      ],
      "metadata": {
        "colab": {
          "base_uri": "https://localhost:8080/",
          "height": 795
        },
        "id": "SHX8ZXIVsg6d",
        "outputId": "71dac86d-ba57-4581-9065-0a5810733111"
      },
      "execution_count": 27,
      "outputs": [
        {
          "output_type": "stream",
          "name": "stderr",
          "text": [
            "<ipython-input-27-b379cc669eba>:3: FutureWarning: \n",
            "\n",
            "Passing `palette` without assigning `hue` is deprecated and will be removed in v0.14.0. Assign the `y` variable to `hue` and set `legend=False` for the same effect.\n",
            "\n",
            "  sns.barplot(x=\"2022\", y=\"Country Name\", data=total_top_ten_countries, palette=\"coolwarm\")\n"
          ]
        },
        {
          "output_type": "display_data",
          "data": {
            "text/plain": [
              "<Figure size 1500x600 with 1 Axes>"
            ],
            "image/png": "[encoded data removed]"
          },
          "metadata": {}
        },
        {
          "output_type": "stream",
          "name": "stderr",
          "text": [
            "<ipython-input-27-b379cc669eba>:11: FutureWarning: \n",
            "\n",
            "Passing `palette` without assigning `hue` is deprecated and will be removed in v0.14.0. Assign the `y` variable to `hue` and set `legend=False` for the same effect.\n",
            "\n",
            "  sns.barplot(x=\"2016\", y=\"Country Name\", data=total_top_ten_countries, palette=\"coolwarm\")\n"
          ]
        },
        {
          "output_type": "display_data",
          "data": {
            "text/plain": [
              "<Figure size 1500x600 with 1 Axes>"
            ],
            "image/png": "[encoded data removed]"
          },
          "metadata": {}
        }
      ]
    },
    {
      "cell_type": "markdown",
      "source": [
        "**TOP 5 COUNTRIES WITH HIGHEST MALE POPULATION**"
      ],
      "metadata": {
        "id": "IDmUTmaOwBLo"
      }
    },
    {
      "cell_type": "code",
      "source": [
        "male_population_data = df[df[\"Series Code\"] == \"SP.POP.TOTL.MA.IN\"]\n",
        "male_population_sorted = male_population_data.sort_values(by=\"2022\", ascending=False)\n",
        "male_top_ten_countries = male_population_sorted.head(5)\n",
        "print(male_top_ten_countries[['Country Name']] )"
      ],
      "metadata": {
        "colab": {
          "base_uri": "https://localhost:8080/"
        },
        "id": "hY0ClWeCwHDf",
        "outputId": "784740a2-3cf7-4a17-856b-9526ddd2770f"
      },
      "execution_count": 28,
      "outputs": [
        {
          "output_type": "stream",
          "name": "stdout",
          "text": [
            "      Country Name\n",
            "523          India\n",
            "475          China\n",
            "640  United States\n",
            "524      Indonesia\n",
            "583       Pakistan\n"
          ]
        }
      ]
    },
    {
      "cell_type": "markdown",
      "source": [
        "**TOP 5 COUNTRIES WITH HIGHEST FEMALE POPULATION**"
      ],
      "metadata": {
        "id": "j077jZhO6HWB"
      }
    },
    {
      "cell_type": "code",
      "source": [
        "female_population_data = df[df[\"Series Code\"] == \"SP.POP.TOTL.FE.IN\"]\n",
        "female_population_sorted = female_population_data.sort_values(by=\"2022\", ascending=False)\n",
        "female_top_ten_countries = female_population_sorted.head(5)\n",
        "print(female_top_ten_countries[['Country Name']] )"
      ],
      "metadata": {
        "colab": {
          "base_uri": "https://localhost:8080/"
        },
        "id": "4IgujQoS6Gsw",
        "outputId": "557c14e0-d6f1-4edf-e07c-b16aa4094c5e"
      },
      "execution_count": 30,
      "outputs": [
        {
          "output_type": "stream",
          "name": "stdout",
          "text": [
            "      Country Name\n",
            "258          China\n",
            "306          India\n",
            "423  United States\n",
            "307      Indonesia\n",
            "366       Pakistan\n"
          ]
        }
      ]
    },
    {
      "cell_type": "markdown",
      "source": [
        "**BAR PLOT OF TOP 5 COUNTRIES WITH HIGHEST MALE POPULATION IN 2022**"
      ],
      "metadata": {
        "id": "jI_tcYFAxCJn"
      }
    },
    {
      "cell_type": "code",
      "source": [
        "plt.figure(figsize=(15, 6))\n",
        "plt.subplot(2,2,1)\n",
        "sns.barplot(x=\"2022\", y=\"Country Name\", data=male_top_ten_countries, palette=\"viridis\")\n",
        "plt.title(\"Top Ten Countries with Highest Male Population (2022)\",size=10)\n",
        "plt.xlabel(\"Male Population\",size=10)\n",
        "plt.ylabel(\"Country\",size=10)\n",
        "plt.show()"
      ],
      "metadata": {
        "colab": {
          "base_uri": "https://localhost:8080/",
          "height": 416
        },
        "id": "6uBU8k6ExA3Z",
        "outputId": "22d130be-9059-47fd-9685-9a52f4220b3f"
      },
      "execution_count": 29,
      "outputs": [
        {
          "output_type": "stream",
          "name": "stderr",
          "text": [
            "<ipython-input-29-74a70a32ddfe>:3: FutureWarning: \n",
            "\n",
            "Passing `palette` without assigning `hue` is deprecated and will be removed in v0.14.0. Assign the `y` variable to `hue` and set `legend=False` for the same effect.\n",
            "\n",
            "  sns.barplot(x=\"2022\", y=\"Country Name\", data=male_top_ten_countries, palette=\"viridis\")\n"
          ]
        },
        {
          "output_type": "display_data",
          "data": {
            "text/plain": [
              "<Figure size 1500x600 with 1 Axes>"
            ],
            "image/png": "[encoded data removed]"
          },
          "metadata": {}
        }
      ]
    },
    {
      "cell_type": "markdown",
      "source": [
        "**BAR PLOT OF TOP 5 COUNTRIES WITH HIGHEST FEMALE POPULATION IN 2022**"
      ],
      "metadata": {
        "id": "vBFe7Yr76Uw4"
      }
    },
    {
      "cell_type": "code",
      "source": [
        "plt.figure(figsize=(15, 6))\n",
        "plt.subplot(2,2,1)\n",
        "sns.barplot(x=\"2022\", y=\"Country Name\", data=female_top_ten_countries, palette=\"viridis\")\n",
        "plt.title(\"Top Ten Countries with Highest Female Population (2022)\",size=10)\n",
        "plt.xlabel(\"Female Population\",size=10)\n",
        "plt.ylabel(\"Country\",size=10)\n",
        "plt.show()"
      ],
      "metadata": {
        "colab": {
          "base_uri": "https://localhost:8080/",
          "height": 416
        },
        "id": "2m3AsrrK6afL",
        "outputId": "b52009ff-aea8-45f8-f268-dca4859b6cb8"
      },
      "execution_count": 31,
      "outputs": [
        {
          "output_type": "stream",
          "name": "stderr",
          "text": [
            "<ipython-input-31-b658ca1a265f>:3: FutureWarning: \n",
            "\n",
            "Passing `palette` without assigning `hue` is deprecated and will be removed in v0.14.0. Assign the `y` variable to `hue` and set `legend=False` for the same effect.\n",
            "\n",
            "  sns.barplot(x=\"2022\", y=\"Country Name\", data=female_top_ten_countries, palette=\"viridis\")\n"
          ]
        },
        {
          "output_type": "display_data",
          "data": {
            "text/plain": [
              "<Figure size 1500x600 with 1 Axes>"
            ],
            "image/png": "[encoded data removed]"
          },
          "metadata": {}
        }
      ]
    }
  ]
}